{
 "cells": [
  {
   "cell_type": "markdown",
   "id": "e7be7e3c",
   "metadata": {},
   "source": [
    "# Testing Reactive Exports\n",
    "\n",
    "This notebook tests the ES6 export functionality in our reactive system."
   ]
  },
  {
   "cell_type": "code",
   "execution_count": null,
   "id": "16b63239",
   "metadata": {
    "vscode": {
     "languageId": "javascript"
    }
   },
   "outputs": [],
   "source": [
    "// Simple test - let's see if basic export works\n",
    "console.log('Testing basic export...');\n",
    "\n",
    "export const testValue = 42;\n",
    "export const message = 'Hello from exports!';\n",
    "\n",
    "console.log('Export test completed');"
   ]
  },
  {
   "cell_type": "markdown",
   "id": "fec5ce23",
   "metadata": {},
   "source": [
    "Test values: \n",
    "- testValue: {{testValue}}\n",
    "- message: {{message}}"
   ]
  },
  {
   "cell_type": "code",
   "execution_count": null,
   "id": "0032d70e",
   "metadata": {
    "vscode": {
     "languageId": "javascript"
    }
   },
   "outputs": [],
   "source": [
    "// Test with dependencies\n",
    "console.log('Testing with dependencies...');\n",
    "console.log('testValue from previous cell:', testValue);\n",
    "\n",
    "export const doubled = testValue * 2;\n",
    "export const greeting = `${message} The doubled value is ${doubled}`;\n",
    "\n",
    "console.log('Dependency test completed');"
   ]
  },
  {
   "cell_type": "markdown",
   "id": "d3d510c7",
   "metadata": {},
   "source": [
    "Computed values:\n",
    "- doubled: {{doubled}}  \n",
    "- greeting: {{greeting}}"
   ]
  }
 ],
 "metadata": {
  "language_info": {
   "name": "python"
  }
 },
 "nbformat": 4,
 "nbformat_minor": 5
}
