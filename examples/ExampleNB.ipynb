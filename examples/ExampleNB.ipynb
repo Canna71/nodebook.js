{
 "cells": [
  {
   "cell_type": "code",
   "execution_count": null,
   "id": "e7675ddb",
   "metadata": {
    "polyglot_notebook": {
     "kernelName": "javascript"
    }
   },
   "outputs": [],
   "source": [
    "let a = 42;"
   ]
  },
  {
   "cell_type": "markdown",
   "id": "b03cc743",
   "metadata": {},
   "source": [
    "# Test"
   ]
  },
  {
   "cell_type": "code",
   "execution_count": null,
   "id": "5bd016cb",
   "metadata": {
    "polyglot_notebook": {
     "kernelName": "javascript"
    }
   },
   "outputs": [],
   "source": [
    "console.log(`Answer: ${a}`);"
   ]
  },
  {
   "cell_type": "code",
   "execution_count": null,
   "id": "3839ecfe",
   "metadata": {
    "polyglot_notebook": {
     "kernelName": "javascript"
    }
   },
   "outputs": [],
   "source": [
    "a"
   ]
  }
 ],
 "metadata": {
  "kernelspec": {
   "display_name": ".NET (C#)",
   "language": "C#",
   "name": ".net-csharp"
  },
  "polyglot_notebook": {
   "kernelInfo": {
    "defaultKernelName": "javascript",
    "items": [
     {
      "aliases": [],
      "languageName": "javascript",
      "name": "javascript"
     }
    ]
   }
  }
 },
 "nbformat": 4,
 "nbformat_minor": 5
}
